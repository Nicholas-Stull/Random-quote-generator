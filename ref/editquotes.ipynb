{
 "cells": [
  {
   "cell_type": "code",
   "execution_count": null,
   "metadata": {},
   "outputs": [],
   "source": [
    "# Open the input file for reading\n",
    "with open('input_file.txt', 'r', encoding='utf-8') as f:\n",
    "    # Read in the contents of the file\n",
    "    contents = f.readlines()\n",
    "\n",
    "# Remove any lines that contain \"id\":\n",
    "modified_contents = [line for line in contents if '\"id\":' not in line]\n",
    "\n",
    "\n",
    "# Replace any instances of \"en\" with \"quote\"\n",
    "modified_contents = [line.replace('\"en\"', '\"quote\"')\n",
    "                     for line in modified_contents]\n",
    "\n",
    "# Print the modified contents\n",
    "print(modified_contents)\n",
    "\n",
    "# Open the output file for writing\n",
    "with open('output_file.txt', 'w', encoding='utf-8') as f:\n",
    "    # Write the modified contents to the output file\n",
    "    f.writelines(modified_contents)\n"
   ]
  },
  {
   "cell_type": "code",
   "execution_count": null,
   "metadata": {},
   "outputs": [],
   "source": [
    "import re\n",
    "\n",
    "# Open the input file for reading\n",
    "with open('input_file.txt', 'r', encoding='utf-8') as f:\n",
    "    # Read in the contents of the file\n",
    "    contents = f.readlines()\n",
    "\n",
    "# Remove leading spaces from each line of text\n",
    "modified_contents = [line.lstrip() for line in contents]\n",
    "\n",
    "# Remove commas that are outside of quotations\n",
    "modified_contents = []\n",
    "inside_quotes = False\n",
    "for line in contents:\n",
    "    new_line = \"\"\n",
    "    for char in line:\n",
    "        if char == '\"':\n",
    "            inside_quotes = not inside_quotes\n",
    "        if not inside_quotes and char == ',':\n",
    "            char = ''\n",
    "        new_line += char\n",
    "    modified_contents.append(new_line)\n",
    "\n",
    "# Remove extra blank lines\n",
    "modified_contents = list(filter(lambda x: x.strip(), modified_contents))\n",
    "\n",
    "# Open the output file for writing\n",
    "with open('output_file.txt', 'w', encoding='utf-8') as f:\n",
    "    # Write the modified contents to the output file\n",
    "    f.writelines(modified_contents)\n"
   ]
  },
  {
   "cell_type": "code",
   "execution_count": null,
   "metadata": {},
   "outputs": [],
   "source": [
    "# Open the input file for reading\n",
    "with open('input_file.txt', 'r', encoding='utf-8') as f:\n",
    "    # Read in the contents of the file\n",
    "    contents = f.readlines()\n",
    "\n",
    "# Remove leading spaces from each line of text\n",
    "modified_contents = [line.lstrip() for line in contents]\n",
    "\n",
    "# Open the output file for writing\n",
    "with open('output_file.txt', 'w', encoding='utf-8') as f:\n",
    "    # Write the modified contents to the output file\n",
    "    f.writelines(modified_contents)\n"
   ]
  },
  {
   "cell_type": "code",
   "execution_count": null,
   "metadata": {},
   "outputs": [],
   "source": [
    "# Open the input file\n",
    "\n",
    "with open(\"quotes.txt\", \"r\", encoding=\"utf-8\") as f:\n",
    "    lines = f.readlines()\n",
    "\n",
    "# Format each line as a dictionary\n",
    "formatted_quotes = []\n",
    "for i, line in enumerate(lines):\n",
    "    if \"author\" in line:\n",
    "        formatted_quotes.append(\"{\" + line.strip() + \", \")\n",
    "    elif \"quote\" in line:\n",
    "        formatted_quotes[-1] = formatted_quotes[-1].strip() + \\\n",
    "            f'\"{line.strip()}\"' + \"},\\n\"\n",
    "    else:\n",
    "        formatted_quotes.append(line)\n",
    "\n",
    "# Write the formatted quotes to a new file\n",
    "with open(\"formatted_quotes.txt\", \"w\") as f:\n",
    "    f.writelines(formatted_quotes)\n",
    "\n",
    "print(\"Formatted quotes written to formatted_quotes.txt\")\n"
   ]
  }
 ],
 "metadata": {
  "kernelspec": {
   "display_name": "Python 3",
   "language": "python",
   "name": "python3"
  },
  "language_info": {
   "name": "python",
   "version": "3.11.2"
  },
  "orig_nbformat": 4
 },
 "nbformat": 4,
 "nbformat_minor": 2
}
